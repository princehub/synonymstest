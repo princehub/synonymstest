{
 "cells": [
  {
   "cell_type": "code",
   "execution_count": 1,
   "metadata": {},
   "outputs": [
    {
     "name": "stderr",
     "output_type": "stream",
     "text": [
      "/Users/dsraju/Work/Python/elasticsearch/synonyms/.venv/lib/python3.11/site-packages/elasticsearch/_sync/client/__init__.py:403: SecurityWarning: Connecting to 'https://localhost:9200' using TLS with verify_certs=False is insecure\n",
      "  _transport = transport_class(\n",
      "/var/folders/r7/18k8z10d2dgbvn5zl0vhfynr0000gn/T/ipykernel_6525/2445713845.py:8: DeprecationWarning: The 'http_auth' parameter is deprecated. Use 'basic_auth' or 'bearer_auth' parameters instead\n",
      "  es = Elasticsearch(\"https://\"+os.getenv(\"ELASTICSEARCH_HOST\")+\":\"+os.getenv(\"ELASTICSEARCH_PORT\"),http_auth=(os.getenv(\"ELASTICSEARCH_USER\"),os.getenv(\"ELASTICSEARCH_PASSWORD\")),verify_certs=False)\n"
     ]
    },
    {
     "data": {
      "text/plain": [
       "True"
      ]
     },
     "execution_count": 1,
     "metadata": {},
     "output_type": "execute_result"
    }
   ],
   "source": [
    "from elasticsearch import Elasticsearch\n",
    "from dotenv import load_dotenv\n",
    "import os\n",
    "import urllib3\n",
    "urllib3.disable_warnings(urllib3.exceptions.InsecureRequestWarning)\n",
    "load_dotenv()\n",
    "\n",
    "es = Elasticsearch(\"https://\"+os.getenv(\"ELASTICSEARCH_HOST\")+\":\"+os.getenv(\"ELASTICSEARCH_PORT\"),http_auth=(os.getenv(\"ELASTICSEARCH_USER\"),os.getenv(\"ELASTICSEARCH_PASSWORD\")),verify_certs=False)\n",
    "es.ping()"
   ]
  },
  {
   "cell_type": "code",
   "execution_count": 2,
   "metadata": {},
   "outputs": [],
   "source": [
    "documents = [\n",
    "    {\"_index\": \"file_synonym_index\", \"_source\": {\"topic\": \"Electric vehicles\"}},\n",
    "    {\"_index\": \"file_synonym_index\", \"_source\": {\"topic\": \"fuel efficiency\"}},\n",
    "    {\"_index\": \"file_synonym_index\", \"_source\": {\"topic\": \"cars\"}},\n",
    "    {\"_index\": \"file_synonym_index\", \"_source\": {\"topic\": \"maintenance\"}},\n",
    "    {\"_index\": \"file_synonym_index\", \"_source\": {\"topic\": \"technology\"}},\n",
    "    {\"_index\": \"file_synonym_index\", \"_source\": {\"topic\": \"fuel prices\"}},\n",
    "    {\"_index\": \"file_synonym_index\", \"_source\": {\"topic\": \"economical\"}},\n",
    "    {\"_index\": \"file_synonym_index\", \"_source\": {\"topic\": \"Car manufacturers\"}},\n",
    "    {\"_index\": \"file_synonym_index\", \"_source\": {\"topic\": \"research and development\"}},\n",
    "    {\"_index\": \"file_synonym_index\", \"_source\": {\"topic\": \"petrol stations\"}}\n",
    "]"
   ]
  },
  {
   "cell_type": "code",
   "execution_count": 3,
   "metadata": {},
   "outputs": [],
   "source": [
    "# Create the synonym sets\n",
    "resp = es.synonyms.put_synonym(\n",
    "    id=\"automobile-synonym-set\",\n",
    "    synonyms_set=[\n",
    "            {\n",
    "            \"id\": \"auto-1\",\n",
    "            \"synonyms\": \"Electric vehicles,Electric vehicle, EV, EVs\"\n",
    "            },\n",
    "            {\n",
    "            \"id\": \"auto-2\",\n",
    "            \"synonyms\": \"fuel => petrol, gas\"\n",
    "            },\n",
    "            {\n",
    "            \"id\": \"auto-3\",\n",
    "            \"synonyms\": \"servicing, repair => maintenance\"\n",
    "            },\n",
    "            {\n",
    "            \"id\": \"auto-4\",  \n",
    "            \"synonyms\": \"economical => cost-effective\"\n",
    "            },\n",
    "            {\n",
    "            \"id\": \"auto-5\",  \n",
    "            \"synonyms\": \"technology, tech\"\n",
    "            },\n",
    "            {\n",
    "            \"id\": \"auto-6\",  \n",
    "            \"synonyms\": \"research and development, R&D\"\n",
    "            },\n",
    "            {\n",
    "            \"id\": \"auto-7\",  \n",
    "            \"synonyms\": \"bunk => station\"\n",
    "            },\n",
    "            {\n",
    "            \"id\": \"auto-8\",  \n",
    "            \"synonyms\": \"howdy => stations\"\n",
    "            }\n",
    "        ],\n",
    ")"
   ]
  },
  {
   "cell_type": "code",
   "execution_count": 4,
   "metadata": {},
   "outputs": [
    {
     "data": {
      "text/plain": [
       "ObjectApiResponse({'acknowledged': True, 'shards_acknowledged': True, 'index': 'file_synonym_index'})"
      ]
     },
     "execution_count": 4,
     "metadata": {},
     "output_type": "execute_result"
    }
   ],
   "source": [
    "settings = {\n",
    "    \"analysis\": {\n",
    "        \"filter\": {\n",
    "            \"synonyms_filter\": {\n",
    "                \"type\": \"synonym_graph\",\n",
    "                \"synonyms_set\": \"automobile-synonym-set\",\n",
    "                \"updateable\": True\n",
    "            }\n",
    "        },\n",
    "        \"analyzer\": {\n",
    "            \"index_analyzer\": {\n",
    "                \"type\": \"custom\",\n",
    "                \"tokenizer\": \"standard\",\n",
    "                \"filter\": [\"lowercase\"]\n",
    "            },\n",
    "            \"search_analyzer\": {\n",
    "                \"type\": \"custom\",\n",
    "                \"tokenizer\": \"standard\",\n",
    "                \"filter\": [\"lowercase\", \"synonyms_filter\"]\n",
    "            }\n",
    "        }\n",
    "    }\n",
    "}\n",
    "mappings = {\n",
    "    \"properties\": {\n",
    "        \"topic\": {\n",
    "            \"type\": \"text\",\n",
    "            \"analyzer\": \"index_analyzer\",\n",
    "            \"search_analyzer\": \"search_analyzer\"\n",
    "        }\n",
    "    }\n",
    "}\n",
    "body = {\n",
    "    \"settings\": settings,\n",
    "    \"mappings\": mappings\n",
    "}\n",
    "\n",
    "if es.indices.exists(index=\"file_synonym_index\"):\n",
    "    es.indices.delete(index=\"file_synonym_index\")\n",
    "es.indices.create(index=\"file_synonym_index\",body=body)"
   ]
  },
  {
   "cell_type": "code",
   "execution_count": 5,
   "metadata": {},
   "outputs": [
    {
     "data": {
      "text/plain": [
       "(10, [])"
      ]
     },
     "execution_count": 5,
     "metadata": {},
     "output_type": "execute_result"
    }
   ],
   "source": [
    "from elasticsearch import helpers\n",
    "\n",
    "helpers.bulk(es, documents)"
   ]
  },
  {
   "cell_type": "code",
   "execution_count": 6,
   "metadata": {},
   "outputs": [],
   "source": [
    "def search_index(index_name, query):\n",
    "    print(\"Searching for: \", query)\n",
    "    response = es.search(index=index_name, \n",
    "                    body={\"query\": \n",
    "                          {\"match\": \n",
    "                           {\"topic\": query}}})\n",
    "    for res in response.get('hits')['hits']:\n",
    "        print(res.get('_source').get('topic'))"
   ]
  },
  {
   "cell_type": "code",
   "execution_count": 7,
   "metadata": {},
   "outputs": [
    {
     "name": "stdout",
     "output_type": "stream",
     "text": [
      "Searching for:  EVs\n",
      "Electric vehicles\n"
     ]
    }
   ],
   "source": [
    "search_index(\"file_synonym_index\", \"EVs\")"
   ]
  },
  {
   "cell_type": "code",
   "execution_count": 8,
   "metadata": {},
   "outputs": [
    {
     "name": "stdout",
     "output_type": "stream",
     "text": [
      "Searching for:  EV\n",
      "Electric vehicles\n"
     ]
    }
   ],
   "source": [
    "search_index(\"file_synonym_index\", \"EV\")"
   ]
  },
  {
   "cell_type": "code",
   "execution_count": 12,
   "metadata": {},
   "outputs": [
    {
     "name": "stdout",
     "output_type": "stream",
     "text": [
      "Searching for:  fuel\n",
      "petrol stations\n"
     ]
    }
   ],
   "source": [
    "search_index(\"file_synonym_index\", \"fuel\")"
   ]
  },
  {
   "cell_type": "code",
   "execution_count": 46,
   "metadata": {},
   "outputs": [
    {
     "name": "stdout",
     "output_type": "stream",
     "text": [
      "Searching for:  howdy\n",
      "petrol stations\n"
     ]
    }
   ],
   "source": [
    "search_index(\"file_synonym_index\", \"howdy\")"
   ]
  },
  {
   "cell_type": "code",
   "execution_count": 30,
   "metadata": {},
   "outputs": [
    {
     "name": "stdout",
     "output_type": "stream",
     "text": [
      "Searching for:  servicing\n",
      "maintenance\n"
     ]
    }
   ],
   "source": [
    "search_index(\"file_synonym_index\", \"servicing\")"
   ]
  },
  {
   "cell_type": "code",
   "execution_count": 31,
   "metadata": {},
   "outputs": [
    {
     "name": "stdout",
     "output_type": "stream",
     "text": [
      "Searching for:  repair\n",
      "maintenance\n"
     ]
    }
   ],
   "source": [
    "search_index(\"file_synonym_index\", \"repair\")"
   ]
  },
  {
   "cell_type": "code",
   "execution_count": 32,
   "metadata": {},
   "outputs": [
    {
     "name": "stdout",
     "output_type": "stream",
     "text": [
      "Searching for:  R&D\n",
      "research and development\n"
     ]
    }
   ],
   "source": [
    "search_index(\"file_synonym_index\", \"R&D\")"
   ]
  },
  {
   "cell_type": "code",
   "execution_count": 33,
   "metadata": {},
   "outputs": [
    {
     "name": "stdout",
     "output_type": "stream",
     "text": [
      "Searching for:  tech\n",
      "technology\n"
     ]
    }
   ],
   "source": [
    "search_index(\"file_synonym_index\", \"tech\")"
   ]
  }
 ],
 "metadata": {
  "kernelspec": {
   "display_name": ".venv",
   "language": "python",
   "name": "python3"
  },
  "language_info": {
   "codemirror_mode": {
    "name": "ipython",
    "version": 3
   },
   "file_extension": ".py",
   "mimetype": "text/x-python",
   "name": "python",
   "nbconvert_exporter": "python",
   "pygments_lexer": "ipython3",
   "version": "3.11.11"
  }
 },
 "nbformat": 4,
 "nbformat_minor": 2
}
